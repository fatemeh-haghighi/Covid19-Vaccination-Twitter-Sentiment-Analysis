{
  "nbformat": 4,
  "nbformat_minor": 0,
  "metadata": {
    "colab": {
      "name": "NN-F21-Embedding&Clustering.ipynb",
      "provenance": [],
      "collapsed_sections": []
    },
    "kernelspec": {
      "name": "python3",
      "display_name": "Python 3"
    },
    "language_info": {
      "name": "python"
    }
  },
  "cells": [
    {
      "cell_type": "markdown",
      "source": [
        "# Importing libraries and necessary modules"
      ],
      "metadata": {
        "id": "wH2D4vyhq4LR"
      }
    },
    {
      "cell_type": "code",
      "metadata": {
        "colab": {
          "base_uri": "https://localhost:8080/"
        },
        "id": "jD32B3qdrS0f",
        "outputId": "24962fd2-cb0e-4d58-dec7-165fd033e20b"
      },
      "source": [
        "!pip install PyDrive\n",
        "!pip install gensim"
      ],
      "execution_count": 104,
      "outputs": [
        {
          "output_type": "stream",
          "name": "stdout",
          "text": [
            "Requirement already satisfied: PyDrive in /usr/local/lib/python3.7/dist-packages (1.3.1)\n",
            "Requirement already satisfied: oauth2client>=4.0.0 in /usr/local/lib/python3.7/dist-packages (from PyDrive) (4.1.3)\n",
            "Requirement already satisfied: PyYAML>=3.0 in /usr/local/lib/python3.7/dist-packages (from PyDrive) (3.13)\n",
            "Requirement already satisfied: google-api-python-client>=1.2 in /usr/local/lib/python3.7/dist-packages (from PyDrive) (1.12.8)\n",
            "Requirement already satisfied: six<2dev,>=1.13.0 in /usr/local/lib/python3.7/dist-packages (from google-api-python-client>=1.2->PyDrive) (1.15.0)\n",
            "Requirement already satisfied: uritemplate<4dev,>=3.0.0 in /usr/local/lib/python3.7/dist-packages (from google-api-python-client>=1.2->PyDrive) (3.0.1)\n",
            "Requirement already satisfied: httplib2<1dev,>=0.15.0 in /usr/local/lib/python3.7/dist-packages (from google-api-python-client>=1.2->PyDrive) (0.17.4)\n",
            "Requirement already satisfied: google-auth>=1.16.0 in /usr/local/lib/python3.7/dist-packages (from google-api-python-client>=1.2->PyDrive) (1.35.0)\n",
            "Requirement already satisfied: google-auth-httplib2>=0.0.3 in /usr/local/lib/python3.7/dist-packages (from google-api-python-client>=1.2->PyDrive) (0.0.4)\n",
            "Requirement already satisfied: google-api-core<2dev,>=1.21.0 in /usr/local/lib/python3.7/dist-packages (from google-api-python-client>=1.2->PyDrive) (1.26.3)\n",
            "Requirement already satisfied: protobuf>=3.12.0 in /usr/local/lib/python3.7/dist-packages (from google-api-core<2dev,>=1.21.0->google-api-python-client>=1.2->PyDrive) (3.17.3)\n",
            "Requirement already satisfied: setuptools>=40.3.0 in /usr/local/lib/python3.7/dist-packages (from google-api-core<2dev,>=1.21.0->google-api-python-client>=1.2->PyDrive) (57.4.0)\n",
            "Requirement already satisfied: googleapis-common-protos<2.0dev,>=1.6.0 in /usr/local/lib/python3.7/dist-packages (from google-api-core<2dev,>=1.21.0->google-api-python-client>=1.2->PyDrive) (1.53.0)\n",
            "Requirement already satisfied: packaging>=14.3 in /usr/local/lib/python3.7/dist-packages (from google-api-core<2dev,>=1.21.0->google-api-python-client>=1.2->PyDrive) (21.3)\n",
            "Requirement already satisfied: requests<3.0.0dev,>=2.18.0 in /usr/local/lib/python3.7/dist-packages (from google-api-core<2dev,>=1.21.0->google-api-python-client>=1.2->PyDrive) (2.23.0)\n",
            "Requirement already satisfied: pytz in /usr/local/lib/python3.7/dist-packages (from google-api-core<2dev,>=1.21.0->google-api-python-client>=1.2->PyDrive) (2018.9)\n",
            "Requirement already satisfied: pyasn1-modules>=0.2.1 in /usr/local/lib/python3.7/dist-packages (from google-auth>=1.16.0->google-api-python-client>=1.2->PyDrive) (0.2.8)\n",
            "Requirement already satisfied: cachetools<5.0,>=2.0.0 in /usr/local/lib/python3.7/dist-packages (from google-auth>=1.16.0->google-api-python-client>=1.2->PyDrive) (4.2.4)\n",
            "Requirement already satisfied: rsa<5,>=3.1.4 in /usr/local/lib/python3.7/dist-packages (from google-auth>=1.16.0->google-api-python-client>=1.2->PyDrive) (4.8)\n",
            "Requirement already satisfied: pyasn1>=0.1.7 in /usr/local/lib/python3.7/dist-packages (from oauth2client>=4.0.0->PyDrive) (0.4.8)\n",
            "Requirement already satisfied: pyparsing!=3.0.5,>=2.0.2 in /usr/local/lib/python3.7/dist-packages (from packaging>=14.3->google-api-core<2dev,>=1.21.0->google-api-python-client>=1.2->PyDrive) (3.0.6)\n",
            "Requirement already satisfied: urllib3!=1.25.0,!=1.25.1,<1.26,>=1.21.1 in /usr/local/lib/python3.7/dist-packages (from requests<3.0.0dev,>=2.18.0->google-api-core<2dev,>=1.21.0->google-api-python-client>=1.2->PyDrive) (1.24.3)\n",
            "Requirement already satisfied: certifi>=2017.4.17 in /usr/local/lib/python3.7/dist-packages (from requests<3.0.0dev,>=2.18.0->google-api-core<2dev,>=1.21.0->google-api-python-client>=1.2->PyDrive) (2021.10.8)\n",
            "Requirement already satisfied: idna<3,>=2.5 in /usr/local/lib/python3.7/dist-packages (from requests<3.0.0dev,>=2.18.0->google-api-core<2dev,>=1.21.0->google-api-python-client>=1.2->PyDrive) (2.10)\n",
            "Requirement already satisfied: chardet<4,>=3.0.2 in /usr/local/lib/python3.7/dist-packages (from requests<3.0.0dev,>=2.18.0->google-api-core<2dev,>=1.21.0->google-api-python-client>=1.2->PyDrive) (3.0.4)\n",
            "Requirement already satisfied: gensim in /usr/local/lib/python3.7/dist-packages (3.6.0)\n",
            "Requirement already satisfied: scipy>=0.18.1 in /usr/local/lib/python3.7/dist-packages (from gensim) (1.4.1)\n",
            "Requirement already satisfied: smart-open>=1.2.1 in /usr/local/lib/python3.7/dist-packages (from gensim) (5.2.1)\n",
            "Requirement already satisfied: six>=1.5.0 in /usr/local/lib/python3.7/dist-packages (from gensim) (1.15.0)\n",
            "Requirement already satisfied: numpy>=1.11.3 in /usr/local/lib/python3.7/dist-packages (from gensim) (1.19.5)\n"
          ]
        }
      ]
    },
    {
      "cell_type": "code",
      "metadata": {
        "id": "iVQnfLmlrYzH",
        "colab": {
          "base_uri": "https://localhost:8080/"
        },
        "outputId": "abb95d14-0a59-48e9-a3a7-2492a7f37b90"
      },
      "source": [
        "import re\n",
        "import csv\n",
        "import nltk\n",
        "import keras\n",
        "import random\n",
        "import gensim\n",
        "import numpy as np\n",
        "import pandas as pd\n",
        "nltk.download('punkt')\n",
        "from pprint import pprint\n",
        "from gensim import corpora\n",
        "from google.colab import auth\n",
        "import matplotlib.pyplot as plt\n",
        "from keras.datasets import mnist\n",
        "from nltk.corpus import stopwords\n",
        "from sklearn.cluster import KMeans\n",
        "from pydrive.auth import GoogleAuth\n",
        "from keras.models import Sequential\n",
        "from pydrive.drive import GoogleDrive\n",
        "from sklearn.decomposition import PCA\n",
        "from nltk.tokenize import word_tokenize\n",
        "from keras.callbacks import EarlyStopping\n",
        "from keras.layers.embeddings import Embedding \n",
        "from keras.preprocessing.text import Tokenizer\n",
        "from oauth2client.client import GoogleCredentials\n",
        "from sklearn.model_selection import train_test_split\n",
        "from nltk.stem import PorterStemmer, LancasterStemmer\n",
        "from keras.layers.core import Dense, SpatialDropout1D\n",
        "from keras.preprocessing.sequence import pad_sequences\n",
        "from keras.layers import CuDNNLSTM, Dense, Dropout, LSTM\n",
        "from gensim.models.doc2vec import Doc2Vec, TaggedDocument\n",
        "from nltk.tokenize.treebank import TreebankWordDetokenizer\n",
        "from sklearn.mixture import GaussianMixture\n",
        "from plotly.offline import download_plotlyjs, init_notebook_mode, plot, iplot\n",
        "from sklearn.cluster import DBSCAN, AffinityPropagation, AgglomerativeClustering, Birch\n",
        "from sklearn.cluster import OPTICS, DBSCAN, MiniBatchKMeans, MeanShift, SpectralClustering"
      ],
      "execution_count": 105,
      "outputs": [
        {
          "output_type": "stream",
          "name": "stdout",
          "text": [
            "[nltk_data] Downloading package punkt to /root/nltk_data...\n",
            "[nltk_data]   Package punkt is already up-to-date!\n"
          ]
        }
      ]
    },
    {
      "cell_type": "code",
      "metadata": {
        "id": "4Ue6W-J7rhu6"
      },
      "source": [
        "''' Authenticate and create the PyDrive client to mount data from google drive'''\n",
        "\n",
        "auth.authenticate_user()\n",
        "gauth = GoogleAuth()\n",
        "gauth.credentials = GoogleCredentials.get_application_default()\n",
        "drive = GoogleDrive(gauth)\n"
      ],
      "execution_count": 106,
      "outputs": []
    },
    {
      "cell_type": "code",
      "metadata": {
        "id": "_SnTmgZ39Rrw"
      },
      "source": [
        "''' \n",
        "sharbale link for the file that contains dataset and existed on google drive\n",
        "the id of that link will be used to download the file\n",
        "https://drive.google.com/file/d/1ZbbvBlVPXLemTQ173CR4OwKA95ewdRzl/view?usp=sharing\n",
        " '''\n",
        "\n",
        "downloaded = drive.CreateFile({'id':\"1ZbbvBlVPXLemTQ173CR4OwKA95ewdRzl\"})\n",
        "downloaded.GetContentFile('vaccination_all_tweets.csv')"
      ],
      "execution_count": 107,
      "outputs": []
    },
    {
      "cell_type": "markdown",
      "metadata": {
        "id": "GHD_uVsnGVKf"
      },
      "source": [
        "# Data preprocessing"
      ]
    },
    {
      "cell_type": "code",
      "metadata": {
        "id": "1eG7FZvEYgx5",
        "colab": {
          "base_uri": "https://localhost:8080/",
          "height": 521
        },
        "outputId": "665a7ae3-5805-4502-b3ff-be3e88fde6e8"
      },
      "source": [
        "data = pd.read_csv('vaccination_all_tweets.csv')\n",
        "data.head(5)"
      ],
      "execution_count": 108,
      "outputs": [
        {
          "output_type": "execute_result",
          "data": {
            "text/html": [
              "<div>\n",
              "<style scoped>\n",
              "    .dataframe tbody tr th:only-of-type {\n",
              "        vertical-align: middle;\n",
              "    }\n",
              "\n",
              "    .dataframe tbody tr th {\n",
              "        vertical-align: top;\n",
              "    }\n",
              "\n",
              "    .dataframe thead th {\n",
              "        text-align: right;\n",
              "    }\n",
              "</style>\n",
              "<table border=\"1\" class=\"dataframe\">\n",
              "  <thead>\n",
              "    <tr style=\"text-align: right;\">\n",
              "      <th></th>\n",
              "      <th>id</th>\n",
              "      <th>user_name</th>\n",
              "      <th>user_location</th>\n",
              "      <th>user_description</th>\n",
              "      <th>user_created</th>\n",
              "      <th>user_followers</th>\n",
              "      <th>user_friends</th>\n",
              "      <th>user_favourites</th>\n",
              "      <th>user_verified</th>\n",
              "      <th>date</th>\n",
              "      <th>text</th>\n",
              "      <th>hashtags</th>\n",
              "      <th>source</th>\n",
              "      <th>retweets</th>\n",
              "      <th>favorites</th>\n",
              "      <th>is_retweet</th>\n",
              "    </tr>\n",
              "  </thead>\n",
              "  <tbody>\n",
              "    <tr>\n",
              "      <th>0</th>\n",
              "      <td>1340539111971516416</td>\n",
              "      <td>Rachel Roh</td>\n",
              "      <td>La Crescenta-Montrose, CA</td>\n",
              "      <td>Aggregator of Asian American news; scanning di...</td>\n",
              "      <td>2009-04-08 17:52:46</td>\n",
              "      <td>405</td>\n",
              "      <td>1692</td>\n",
              "      <td>3247</td>\n",
              "      <td>False</td>\n",
              "      <td>2020-12-20 06:06:44</td>\n",
              "      <td>Same folks said daikon paste could treat a cyt...</td>\n",
              "      <td>['PfizerBioNTech']</td>\n",
              "      <td>Twitter for Android</td>\n",
              "      <td>0</td>\n",
              "      <td>0</td>\n",
              "      <td>False</td>\n",
              "    </tr>\n",
              "    <tr>\n",
              "      <th>1</th>\n",
              "      <td>1338158543359250433</td>\n",
              "      <td>Albert Fong</td>\n",
              "      <td>San Francisco, CA</td>\n",
              "      <td>Marketing dude, tech geek, heavy metal &amp; '80s ...</td>\n",
              "      <td>2009-09-21 15:27:30</td>\n",
              "      <td>834</td>\n",
              "      <td>666</td>\n",
              "      <td>178</td>\n",
              "      <td>False</td>\n",
              "      <td>2020-12-13 16:27:13</td>\n",
              "      <td>While the world has been on the wrong side of ...</td>\n",
              "      <td>NaN</td>\n",
              "      <td>Twitter Web App</td>\n",
              "      <td>1</td>\n",
              "      <td>1</td>\n",
              "      <td>False</td>\n",
              "    </tr>\n",
              "    <tr>\n",
              "      <th>2</th>\n",
              "      <td>1337858199140118533</td>\n",
              "      <td>eli🇱🇹🇪🇺👌</td>\n",
              "      <td>Your Bed</td>\n",
              "      <td>heil, hydra 🖐☺</td>\n",
              "      <td>2020-06-25 23:30:28</td>\n",
              "      <td>10</td>\n",
              "      <td>88</td>\n",
              "      <td>155</td>\n",
              "      <td>False</td>\n",
              "      <td>2020-12-12 20:33:45</td>\n",
              "      <td>#coronavirus #SputnikV #AstraZeneca #PfizerBio...</td>\n",
              "      <td>['coronavirus', 'SputnikV', 'AstraZeneca', 'Pf...</td>\n",
              "      <td>Twitter for Android</td>\n",
              "      <td>0</td>\n",
              "      <td>0</td>\n",
              "      <td>False</td>\n",
              "    </tr>\n",
              "    <tr>\n",
              "      <th>3</th>\n",
              "      <td>1337855739918835717</td>\n",
              "      <td>Charles Adler</td>\n",
              "      <td>Vancouver, BC - Canada</td>\n",
              "      <td>Hosting \"CharlesAdlerTonight\" Global News Radi...</td>\n",
              "      <td>2008-09-10 11:28:53</td>\n",
              "      <td>49165</td>\n",
              "      <td>3933</td>\n",
              "      <td>21853</td>\n",
              "      <td>True</td>\n",
              "      <td>2020-12-12 20:23:59</td>\n",
              "      <td>Facts are immutable, Senator, even when you're...</td>\n",
              "      <td>NaN</td>\n",
              "      <td>Twitter Web App</td>\n",
              "      <td>446</td>\n",
              "      <td>2129</td>\n",
              "      <td>False</td>\n",
              "    </tr>\n",
              "    <tr>\n",
              "      <th>4</th>\n",
              "      <td>1337854064604966912</td>\n",
              "      <td>Citizen News Channel</td>\n",
              "      <td>NaN</td>\n",
              "      <td>Citizen News Channel bringing you an alternati...</td>\n",
              "      <td>2020-04-23 17:58:42</td>\n",
              "      <td>152</td>\n",
              "      <td>580</td>\n",
              "      <td>1473</td>\n",
              "      <td>False</td>\n",
              "      <td>2020-12-12 20:17:19</td>\n",
              "      <td>Explain to me again why we need a vaccine @Bor...</td>\n",
              "      <td>['whereareallthesickpeople', 'PfizerBioNTech']</td>\n",
              "      <td>Twitter for iPhone</td>\n",
              "      <td>0</td>\n",
              "      <td>0</td>\n",
              "      <td>False</td>\n",
              "    </tr>\n",
              "  </tbody>\n",
              "</table>\n",
              "</div>"
            ],
            "text/plain": [
              "                    id             user_name  ... favorites is_retweet\n",
              "0  1340539111971516416            Rachel Roh  ...         0      False\n",
              "1  1338158543359250433           Albert Fong  ...         1      False\n",
              "2  1337858199140118533              eli🇱🇹🇪🇺👌  ...         0      False\n",
              "3  1337855739918835717         Charles Adler  ...      2129      False\n",
              "4  1337854064604966912  Citizen News Channel  ...         0      False\n",
              "\n",
              "[5 rows x 16 columns]"
            ]
          },
          "metadata": {},
          "execution_count": 108
        }
      ]
    },
    {
      "cell_type": "code",
      "metadata": {
        "colab": {
          "base_uri": "https://localhost:8080/"
        },
        "id": "ZokqvTSrEbfs",
        "outputId": "eb5923e2-d4fd-43ad-8c18-d203e90cf6dd"
      },
      "source": [
        "''' \n",
        "find if there is any nan data in dataset\n",
        "if some features be nan it could be a sign of bot \n",
        "not a real user as the owner of tweet, such as username\n",
        "'''\n",
        "\n",
        "data.isna().sum()"
      ],
      "execution_count": 109,
      "outputs": [
        {
          "output_type": "execute_result",
          "data": {
            "text/plain": [
              "id                      0\n",
              "user_name               1\n",
              "user_location       62740\n",
              "user_description    15406\n",
              "user_created            0\n",
              "user_followers          0\n",
              "user_friends            0\n",
              "user_favourites         0\n",
              "user_verified           0\n",
              "date                    0\n",
              "text                    0\n",
              "hashtags            47194\n",
              "source                119\n",
              "retweets                0\n",
              "favorites               0\n",
              "is_retweet              0\n",
              "dtype: int64"
            ]
          },
          "metadata": {},
          "execution_count": 109
        }
      ]
    },
    {
      "cell_type": "code",
      "metadata": {
        "id": "2BSr7ZaqIXkS",
        "colab": {
          "base_uri": "https://localhost:8080/"
        },
        "outputId": "0651aa58-a811-4523-9a47-bb54267ea189"
      },
      "source": [
        "'''\n",
        "username and source should not be nan, \n",
        "so the data row containing nan value in these feature will be droped\n",
        "'''\n",
        "\n",
        "data = data.dropna(subset=['user_name', 'source'])\n",
        "data.isna().sum()"
      ],
      "execution_count": 110,
      "outputs": [
        {
          "output_type": "execute_result",
          "data": {
            "text/plain": [
              "id                      0\n",
              "user_name               0\n",
              "user_location       62631\n",
              "user_description    15406\n",
              "user_created            0\n",
              "user_followers          0\n",
              "user_friends            0\n",
              "user_favourites         0\n",
              "user_verified           0\n",
              "date                    0\n",
              "text                    0\n",
              "hashtags            47121\n",
              "source                  0\n",
              "retweets                0\n",
              "favorites               0\n",
              "is_retweet              0\n",
              "dtype: int64"
            ]
          },
          "metadata": {},
          "execution_count": 110
        }
      ]
    },
    {
      "cell_type": "code",
      "metadata": {
        "id": "xveWL3cRXqZt",
        "colab": {
          "base_uri": "https://localhost:8080/"
        },
        "outputId": "f4983986-8ec5-4f74-803f-1b88ad482d1c"
      },
      "source": [
        "'''\n",
        "check whether the creation date of account is later that the creation \n",
        "date of the tweet, if so, the owner of account is bot\n",
        "'''\n",
        "\n",
        "data['date'] = pd.to_datetime(data['date'])\n",
        "data['user_created'] = pd.to_datetime(data['user_created'])\n",
        "# print(data.iloc[0]['date'] - data.iloc[0]['user_created'])\n",
        "data.where(data.user_created > data.date).sum()"
      ],
      "execution_count": 111,
      "outputs": [
        {
          "output_type": "execute_result",
          "data": {
            "text/plain": [
              "id                  0.0\n",
              "user_name           0.0\n",
              "user_location       0.0\n",
              "user_description    0.0\n",
              "user_followers      0.0\n",
              "user_friends        0.0\n",
              "user_favourites     0.0\n",
              "user_verified       0.0\n",
              "text                0.0\n",
              "hashtags            0.0\n",
              "source              0.0\n",
              "retweets            0.0\n",
              "favorites           0.0\n",
              "is_retweet          0.0\n",
              "dtype: float64"
            ]
          },
          "metadata": {},
          "execution_count": 111
        }
      ]
    },
    {
      "cell_type": "markdown",
      "metadata": {
        "id": "gOmIMyl5lDxf"
      },
      "source": [
        "## Text/ tweet analysis"
      ]
    },
    {
      "cell_type": "code",
      "metadata": {
        "id": "jQE738JbptgJ"
      },
      "source": [
        "'''Remove URLs, Hashtags, single quotes, emails, new lines, mentiones, convert to low case'''\n",
        "\n",
        "def clean_tweet_text(data):\n",
        "    url_pattern = re.compile(r'https?://\\S+|www\\.\\S+')\n",
        "    data = url_pattern.sub(r'', data)\n",
        "    data = re.sub('\\S*@\\S*\\s?', '', data)\n",
        "    data = re.sub('\\s+', ' ', data)\n",
        "    data = re.sub(\"\\'\", \"\", data)\n",
        "    data = re.sub(r'@\\w+', '', data)\n",
        "    data = re.sub(r'#', '', data)\n",
        "    data = re.sub(r'RT[\\s]+', '', data)\n",
        "    data = data.lower()    \n",
        "    return data\n",
        "\n",
        "cleaned_txt = []\n",
        "data_to_list = data['text'].values.tolist()\n",
        "for i in range(len(data_to_list)):\n",
        "    cleaned_txt.append(clean_tweet_text(data_to_list[i]))"
      ],
      "execution_count": 112,
      "outputs": []
    },
    {
      "cell_type": "code",
      "metadata": {
        "id": "978gV61-p3cj"
      },
      "source": [
        "'''Remove punctuations from text'''\n",
        "\n",
        "def remove_punctuations(sentences):\n",
        "    clean_sentences = []\n",
        "    for sentence in sentences:\n",
        "      tokens = word_tokenize(sentence)\n",
        "      words = [word for word in tokens if word.isalpha()]\n",
        "      clean_sentences.append(words)\n",
        "    return clean_sentences\n",
        "\n",
        "data_words = remove_punctuations(cleaned_txt)"
      ],
      "execution_count": 113,
      "outputs": []
    },
    {
      "cell_type": "code",
      "metadata": {
        "colab": {
          "base_uri": "https://localhost:8080/"
        },
        "id": "msTZMLc8l0Mc",
        "outputId": "eae03f66-090f-494e-8eb1-2d924183ac22"
      },
      "source": [
        "''' Remove stopwords from text'''\n",
        "\n",
        "nltk.download(\"stopwords\")\n",
        "stop_words = set(stopwords.words('english'))\n",
        "print(\"Stop words are: \\n\", stop_words)"
      ],
      "execution_count": 114,
      "outputs": [
        {
          "output_type": "stream",
          "name": "stdout",
          "text": [
            "[nltk_data] Downloading package stopwords to /root/nltk_data...\n",
            "[nltk_data]   Package stopwords is already up-to-date!\n",
            "Stop words are: \n",
            " {'hers', 'nor', 'he', 'more', 'to', 'then', 'and', 'is', \"don't\", 'aren', 'shan', 'after', 'when', \"you're\", 'up', 'off', 'at', \"shouldn't\", 'down', \"that'll\", \"hasn't\", \"it's\", 'about', \"couldn't\", 'wasn', 'your', 'against', 'll', 'own', 'during', 'below', 'hadn', 'wouldn', 'while', 'am', 'an', 'any', 'won', 'not', \"won't\", 'again', 'for', 'needn', 'him', \"you'll\", \"you'd\", 'i', 's', 'will', 'should', 'my', 're', \"shan't\", 'haven', 'before', 'which', 'y', \"you've\", 'them', 'ourselves', 'doing', 'out', 've', 'our', \"didn't\", 'ain', 'mustn', 'here', 'has', 'o', \"mustn't\", 'hasn', 'until', 'as', 'a', \"mightn't\", 'where', 'been', 'but', 'only', 'shouldn', 'were', \"aren't\", 'm', 'same', 'does', 'than', 'above', 'me', 'now', 'do', \"doesn't\", 'too', \"isn't\", 'was', 'some', \"wasn't\", 'don', 'having', 'themselves', \"weren't\", 'she', 'if', 'very', 'into', 'her', 'couldn', 'there', 'yourselves', 'had', 'or', 'further', 'its', 'we', 'mightn', 't', 'other', 'his', 'be', 'because', 'of', 'myself', 'these', 'once', 'isn', 'whom', 'each', 'that', 'the', 'such', 'have', 'ours', 'just', 'those', \"haven't\", 'who', \"needn't\", 'yours', 'few', 'most', 'did', 'under', 'why', \"wouldn't\", \"hadn't\", 'through', 'over', 'd', 'herself', 'they', 'it', 'itself', \"she's\", 'what', 'how', 'in', 'all', 'both', 'this', \"should've\", 'didn', 'himself', 'are', 'theirs', 'no', 'yourself', 'weren', 'between', 'you', 'can', 'so', 'by', 'from', 'on', 'doesn', 'ma', 'being', 'with', 'their'}\n"
          ]
        }
      ]
    },
    {
      "cell_type": "code",
      "metadata": {
        "id": "2gKVXMrpn3jJ"
      },
      "source": [
        "def Remove_stopwords(data):\n",
        "  temp_list = []\n",
        "  for sentence in data:\n",
        "    temp_sentence = []\n",
        "    for word in sentence:\n",
        "      if(word not in stop_words):\n",
        "        temp_sentence.append(word)\n",
        "\n",
        "    temp_list.append(temp_sentence)\n",
        "  return temp_list\n",
        "\n",
        "removed_stopword = Remove_stopwords(data_words)"
      ],
      "execution_count": 115,
      "outputs": []
    },
    {
      "cell_type": "code",
      "metadata": {
        "id": "rYP8USo9_o4T"
      },
      "source": [
        "''' \n",
        "Stemming the words, convert each word to its root\n",
        "for instance convert hopfully --> hope\n",
        "'''\n",
        "\n",
        "porter=PorterStemmer()\n",
        "\n",
        "def stem_sentence(without_stopwords):\n",
        "  stem_sentences = []\n",
        "  for sentence in without_stopwords:\n",
        "    stem_sen=[]\n",
        "    for word in sentence:\n",
        "      stem_sen.append(porter.stem(word))\n",
        "    stem_sentences.append(stem_sen)\n",
        "  return stem_sentences\n",
        "\n",
        "stem_words = stem_sentence(removed_stopword)"
      ],
      "execution_count": 116,
      "outputs": []
    },
    {
      "cell_type": "code",
      "source": [
        "'''make sentences of each tweet and add the cleaned text as a column to dataset'''\n",
        "sentences = []\n",
        "for sent in stem_words:\n",
        "  sentences.append(\" \".join(sent))\n",
        "\n",
        "data['cleaned_txt'] = sentences\n",
        "data.to_csv(\"vaccination_all_tweets_v2.csv\")\n",
        "print(data['cleaned_txt'])  "
      ],
      "metadata": {
        "id": "KnE6wwEDDdxm",
        "colab": {
          "base_uri": "https://localhost:8080/"
        },
        "outputId": "bdedfa6e-6775-47d1-e627-29b9ec9a8273"
      },
      "execution_count": 117,
      "outputs": [
        {
          "output_type": "stream",
          "name": "stdout",
          "text": [
            "0         folk said daikon past could treat cytokin stor...\n",
            "1         world wrong side histori year hope biggest vac...\n",
            "2         coronaviru sputnikv astrazeneca pfizerbiontech...\n",
            "3         fact immut senat even your ethic sturdi enough...\n",
            "4               explain need vaccin whereareallthesickpeopl\n",
            "                                ...                        \n",
            "212977    bbmp bengaluru covidvaccin avail free slot cov...\n",
            "212978    bbmp bengaluru covidvaccin avail free slot cov...\n",
            "212979    sell nitrileglov facemask vaccin sputnikv syri...\n",
            "212980    urban bengaluru covidvaccin avail free slot pa...\n",
            "212981    urban bengaluru covidvaccin avail free slot pa...\n",
            "Name: cleaned_txt, Length: 212862, dtype: object\n"
          ]
        }
      ]
    },
    {
      "cell_type": "markdown",
      "metadata": {
        "id": "IKRRA9sOS35C"
      },
      "source": [
        "#Sentence embedding- method 1: Doc2Vec"
      ]
    },
    {
      "cell_type": "code",
      "metadata": {
        "id": "Vepv7H9STAHl"
      },
      "source": [
        "'''we define a function which returns the cosine similarity between 2 vectors'''\n",
        "def cosine(u, v):\n",
        "    return np.dot(u, v) / (np.linalg.norm(u) * np.linalg.norm(v))\n",
        "\n",
        "'''tagged_data'''\n",
        "tagged_data = [TaggedDocument(d, [i]) for i, d in enumerate(stem_words)]"
      ],
      "execution_count": 118,
      "outputs": []
    },
    {
      "cell_type": "code",
      "metadata": {
        "colab": {
          "base_uri": "https://localhost:8080/",
          "height": 53
        },
        "id": "ZwS2nFIQTOnU",
        "outputId": "17408876-c9a9-47b9-8dcb-19353008703b"
      },
      "source": [
        "embed_model = Doc2Vec(tagged_data, vector_size = 20, window = 2, min_count = 1, epochs = 100)\n",
        "\n",
        "'''\n",
        "vector_size = Dimensionality of the feature vectors.\n",
        "window = The maximum distance between the current and predicted word within a sentence.\n",
        "min_count = Ignores all words with total frequency lower than this.\n",
        "alpha = The initial learning rate.\n",
        "'''"
      ],
      "execution_count": 119,
      "outputs": [
        {
          "output_type": "execute_result",
          "data": {
            "application/vnd.google.colaboratory.intrinsic+json": {
              "type": "string"
            },
            "text/plain": [
              "'\\nvector_size = Dimensionality of the feature vectors.\\nwindow = The maximum distance between the current and predicted word within a sentence.\\nmin_count = Ignores all words with total frequency lower than this.\\nalpha = The initial learning rate.\\n'"
            ]
          },
          "metadata": {},
          "execution_count": 119
        }
      ]
    },
    {
      "cell_type": "code",
      "source": [
        "with open('test.npy', 'wb') as f:\n",
        "  for i in range(len(embed_model.docvecs)):\n",
        "      np.save(f, embed_model.docvecs[i])\n",
        "    # np.save(f, np.array([1, 3]))\n",
        "# print(model.docvecs[i])"
      ],
      "metadata": {
        "id": "dDlwmbpF65pJ"
      },
      "execution_count": 120,
      "outputs": []
    },
    {
      "cell_type": "markdown",
      "source": [
        "## Dimension reduction method: PCA"
      ],
      "metadata": {
        "id": "LPACuhxnfWf8"
      }
    },
    {
      "cell_type": "code",
      "metadata": {
        "id": "RfaYrf3Qi2nf"
      },
      "source": [
        "input_sample = []\n",
        "for i in range(len(embed_model.docvecs)):\n",
        "  input_sample.append((embed_model.docvecs[i]).tolist())"
      ],
      "execution_count": 121,
      "outputs": []
    },
    {
      "cell_type": "code",
      "source": [
        "N_COMPONENTS = 10\n",
        "pca = PCA(n_components=N_COMPONENTS)\n",
        "X_pca = pca.fit_transform(input_sample)\n",
        "pca.explained_variance_ratio_\n"
      ],
      "metadata": {
        "colab": {
          "base_uri": "https://localhost:8080/"
        },
        "id": "Dw-fwjzm_uWm",
        "outputId": "3b973adf-e033-4842-88d8-ce2d32b57f19"
      },
      "execution_count": 122,
      "outputs": [
        {
          "output_type": "execute_result",
          "data": {
            "text/plain": [
              "array([0.07634824, 0.07249137, 0.06936809, 0.06613397, 0.06270494,\n",
              "       0.06066036, 0.05837979, 0.05531343, 0.05343841, 0.05242243])"
            ]
          },
          "metadata": {},
          "execution_count": 122
        }
      ]
    },
    {
      "cell_type": "markdown",
      "metadata": {
        "id": "JxJFP766QN4O"
      },
      "source": [
        "##Clustering methods: K-Means"
      ]
    },
    {
      "cell_type": "code",
      "metadata": {
        "id": "EwUEEJTckLJf"
      },
      "source": [
        "n_clusters = 2\n",
        "kmeans = KMeans(n_clusters=n_clusters, random_state = 0)\n",
        "pred_kmeans = kmeans.fit_predict(X_pca)"
      ],
      "execution_count": 123,
      "outputs": []
    },
    {
      "cell_type": "code",
      "metadata": {
        "id": "UulBpzg2kTza"
      },
      "source": [
        "predicted_labels_v1 = pred_kmeans.tolist()\n",
        "for i in range(len(predicted_labels_v1)):\n",
        "  if i < 5000:\n",
        "   print(i + 1, \" = \", predicted_labels_v1[i])\n",
        "  else:\n",
        "    break"
      ],
      "execution_count": null,
      "outputs": []
    },
    {
      "cell_type": "code",
      "source": [
        "count0 = count1 = 0 \n",
        "for num in predicted_labels_v1:\n",
        "  if num == 0:\n",
        "    count0 += 1\n",
        "  if num == 1:\n",
        "    count1 += 1\n",
        "\n",
        "fig = plt.figure(figsize = (10, 7))\n",
        "plt.bar([0, 1], [count0, count1], color ='maroon', width = 0.5)\n",
        "plt.title(\"Overal sentiment towards COVID-19 vaccination with k-means clustering\")\n",
        "plt.xlabel(\"Label\")\n",
        "plt.ylabel(\"The number of tweets\")\n",
        "plt.xlim([-1, 2])"
      ],
      "metadata": {
        "colab": {
          "base_uri": "https://localhost:8080/",
          "height": 475
        },
        "id": "dGwAunw7WEhM",
        "outputId": "85cbb0ff-e3be-44d8-aa70-bb2fb26e105b"
      },
      "execution_count": 125,
      "outputs": [
        {
          "output_type": "execute_result",
          "data": {
            "text/plain": [
              "(-1.0, 2.0)"
            ]
          },
          "metadata": {},
          "execution_count": 125
        },
        {
          "output_type": "display_data",
          "data": {
            "image/png": "[encoded data removed]",
            "text/plain": [
              "<Figure size 720x504 with 1 Axes>"
            ]
          },
          "metadata": {
            "needs_background": "light"
          }
        }
      ]
    },
    {
      "cell_type": "markdown",
      "source": [
        "##Clustering method: Mini batch K-Means"
      ],
      "metadata": {
        "id": "Lx7pWLctEft3"
      }
    },
    {
      "cell_type": "code",
      "source": [
        "mini_batch_kmeans = MiniBatchKMeans(n_clusters=2).fit(X_pca)\n",
        "# fit the model\n",
        "# model.fit(X)\n",
        "# assign a cluster to each example\n",
        "# yhat = model.predict(X)\n",
        "pre_labels_v2 = mini_batch_kmeans.labels_\n",
        "pred_labels_v2 = pre_labels_v2.tolist()"
      ],
      "metadata": {
        "id": "60HyCvZSFouj"
      },
      "execution_count": 126,
      "outputs": []
    },
    {
      "cell_type": "code",
      "source": [
        "for i in range(len(pred_labels_v2)):\n",
        "  if i < 5000:\n",
        "   print(i + 1, \" = \", pred_labels_v2[i])\n",
        "  else:\n",
        "    break"
      ],
      "metadata": {
        "id": "UgND4p4qGsZB"
      },
      "execution_count": null,
      "outputs": []
    },
    {
      "cell_type": "code",
      "source": [
        "count0 = count1 = 0 \n",
        "for num in pred_labels_v2:\n",
        "  if num == 0:\n",
        "    count0 += 1\n",
        "  if num == 1:\n",
        "    count1 += 1\n",
        "\n",
        "fig = plt.figure(figsize = (10, 7))\n",
        "plt.bar([0, 1], [count0, count1], color ='green', width = 0.5 )\n",
        "plt.title(\"Overal sentiment towards COVID-19 vaccination with mini batch k-means clustering\")\n",
        "plt.xlabel(\"Label\")\n",
        "plt.ylabel(\"The number of tweets\")\n",
        "plt.xlim([-1, 2])"
      ],
      "metadata": {
        "colab": {
          "base_uri": "https://localhost:8080/",
          "height": 475
        },
        "id": "zMDxJoHcAi40",
        "outputId": "3f088517-ca0a-4c15-eaa1-86a3007f8fca"
      },
      "execution_count": 128,
      "outputs": [
        {
          "output_type": "execute_result",
          "data": {
            "text/plain": [
              "(-1.0, 2.0)"
            ]
          },
          "metadata": {},
          "execution_count": 128
        },
        {
          "output_type": "display_data",
          "data": {
            "image/png": "[encoded data removed]",
            "text/plain": [
              "<Figure size 720x504 with 1 Axes>"
            ]
          },
          "metadata": {
            "needs_background": "light"
          }
        }
      ]
    },
    {
      "cell_type": "markdown",
      "metadata": {
        "id": "1E-YcsMm1yUS"
      },
      "source": [
        "  ## Write the result in a file"
      ]
    },
    {
      "cell_type": "code",
      "metadata": {
        "id": "4cDmJr_A3x5_"
      },
      "source": [
        "f = open('Embedding_Clusting_out.csv', 'w')\n",
        "\n",
        "# create the csv writer\n",
        "writer = csv.writer(f)\n",
        "# write a row to the csv file\n",
        "writer.writerow(['Index', 'Doc2Vec_kMeans', 'mini_batch_kMean', 'Doc2Vec'])\n",
        "for i in range(len(predicted_labels)):\n",
        "\n",
        "  writer.writerow([i, predicted_labels_v1[i], pred_labels_v2[i], input_sample[i]])\n",
        "# close the file\n",
        "f.close()"
      ],
      "execution_count": 129,
      "outputs": []
    },
    {
      "cell_type": "markdown",
      "source": [
        "## LSTM network for prediction"
      ],
      "metadata": {
        "id": "6sHrCXtAivWO"
      }
    },
    {
      "cell_type": "markdown",
      "source": [
        "### Data prepration"
      ],
      "metadata": {
        "id": "ar2ZJTKti1FC"
      }
    },
    {
      "cell_type": "code",
      "metadata": {
        "id": "B22bDXtpD230",
        "colab": {
          "base_uri": "https://localhost:8080/"
        },
        "outputId": "28a26698-6f41-4c91-cd84-efc2aa224d1d"
      },
      "source": [
        "generated_data = pd.read_csv(\"Embedding_Clusting_out.csv\")\n",
        "print(\"Number of rows in the second dataset generated is : \", len(generated_data))"
      ],
      "execution_count": 130,
      "outputs": [
        {
          "output_type": "stream",
          "name": "stdout",
          "text": [
            "Number of rows in the second dataset generated is :  212862\n"
          ]
        }
      ]
    },
    {
      "cell_type": "code",
      "source": [
        "max_fatures = 2000\n",
        "tokenizer = Tokenizer(num_words=max_fatures, split=' ')\n",
        "data['cleaned_txt'] = data['cleaned_txt'].astype(str)\n",
        "tokenizer.fit_on_texts(data['cleaned_txt'].values)\n",
        "X = tokenizer.texts_to_sequences(data['cleaned_txt'].values)\n",
        "X = pad_sequences(X)"
      ],
      "metadata": {
        "id": "aBpqDSNvQTvV"
      },
      "execution_count": 131,
      "outputs": []
    },
    {
      "cell_type": "code",
      "source": [
        "Y = pd.get_dummies(generated_data['Doc2Vec_kMeans']).values\n",
        "\n",
        "# print(X.shape)\n",
        "# print(Y.shape, \"\\n\")\n",
        "'''split the test and train data'''\n",
        "X_train, X_test, Y_train, Y_test = train_test_split(X, Y, test_size= 42572, random_state=0)\n"
      ],
      "metadata": {
        "id": "QwCfDOPGQezD"
      },
      "execution_count": 132,
      "outputs": []
    },
    {
      "cell_type": "code",
      "source": [
        "print(X_train.shape,Y_train.shape)\n",
        "print(X_test.shape,Y_test.shape)"
      ],
      "metadata": {
        "colab": {
          "base_uri": "https://localhost:8080/"
        },
        "id": "m0OTRqcbRAwj",
        "outputId": "73eb728c-4dd3-43b1-b4b9-dabd2bf8b82e"
      },
      "execution_count": 133,
      "outputs": [
        {
          "output_type": "stream",
          "name": "stdout",
          "text": [
            "(170290, 20) (170290, 2)\n",
            "(42572, 20) (42572, 2)\n"
          ]
        }
      ]
    },
    {
      "cell_type": "markdown",
      "source": [
        "### LSTM architecture"
      ],
      "metadata": {
        "id": "nsLb3rz0i4KV"
      }
    },
    {
      "cell_type": "code",
      "source": [
        "# # The maximum number of words to be used. (most frequent)\n",
        "MAX_NB_WORDS = 50000\n",
        "# Max number of words in each complaint.\n",
        "MAX_SEQUENCE_LENGTH = 30\n",
        "# This is fixed.\n",
        "EMBEDDING_DIM = 128\n",
        "def LSTM_model(input_data, MAX_NB_WORDS, EMBEDDING_DIM):\n",
        "  model = Sequential()\n",
        "  model.add(Embedding(MAX_NB_WORDS, EMBEDDING_DIM, input_length= input_data.shape[1]))\n",
        "  model.add(SpatialDropout1D(0.3))\n",
        "  model.add(LSTM(100, dropout=0.3, recurrent_dropout=0.3))\n",
        "  model.add(Dense(2, activation='softmax'))\n",
        "  model.compile(loss='categorical_crossentropy', optimizer='adam', metrics=['accuracy'])\n",
        "  print(model.summary())\n",
        "  return model\n"
      ],
      "metadata": {
        "id": "faWMMXe_RG3n"
      },
      "execution_count": 134,
      "outputs": []
    },
    {
      "cell_type": "code",
      "source": [
        "epochs = 20\n",
        "batch_size = 64\n",
        "model_v1 = LSTM_model(X, MAX_NB_WORDS, EMBEDDING_DIM)"
      ],
      "metadata": {
        "colab": {
          "base_uri": "https://localhost:8080/"
        },
        "id": "c8BAqC3HjK5-",
        "outputId": "9289d500-e151-4fff-ae6e-7d81b63c9d6b"
      },
      "execution_count": 136,
      "outputs": [
        {
          "output_type": "stream",
          "name": "stdout",
          "text": [
            "Model: \"sequential_4\"\n",
            "_________________________________________________________________\n",
            " Layer (type)                Output Shape              Param #   \n",
            "=================================================================\n",
            " embedding_4 (Embedding)     (None, 20, 128)           6400000   \n",
            "                                                                 \n",
            " spatial_dropout1d_4 (Spatia  (None, 20, 128)          0         \n",
            " lDropout1D)                                                     \n",
            "                                                                 \n",
            " lstm_4 (LSTM)               (None, 100)               91600     \n",
            "                                                                 \n",
            " dense_4 (Dense)             (None, 2)                 202       \n",
            "                                                                 \n",
            "=================================================================\n",
            "Total params: 6,491,802\n",
            "Trainable params: 6,491,802\n",
            "Non-trainable params: 0\n",
            "_________________________________________________________________\n",
            "None\n"
          ]
        }
      ]
    },
    {
      "cell_type": "markdown",
      "source": [
        "###LSTM for k-means labels"
      ],
      "metadata": {
        "id": "x7nLYJ40z-lZ"
      }
    },
    {
      "cell_type": "code",
      "source": [
        "'''fit the network over the target labels predicted with k-means'''\n",
        "history = model_v1.fit(X_train, Y_train, epochs=epochs, batch_size = 64, validation_data=[X_test, Y_test],\n",
        "                    callbacks=[EarlyStopping(monitor='val_loss', patience=3, min_delta=0.0001)])"
      ],
      "metadata": {
        "colab": {
          "base_uri": "https://localhost:8080/"
        },
        "id": "NRzX2oIxjOkS",
        "outputId": "c3a19260-16f9-42b9-cf65-0db0a342749d"
      },
      "execution_count": 137,
      "outputs": [
        {
          "output_type": "stream",
          "name": "stdout",
          "text": [
            "Epoch 1/20\n",
            "2661/2661 [==============================] - 313s 117ms/step - loss: 0.3154 - accuracy: 0.8595 - val_loss: 0.2737 - val_accuracy: 0.8798\n",
            "Epoch 2/20\n",
            "2661/2661 [==============================] - 309s 116ms/step - loss: 0.2709 - accuracy: 0.8812 - val_loss: 0.2671 - val_accuracy: 0.8840\n",
            "Epoch 3/20\n",
            "2661/2661 [==============================] - 309s 116ms/step - loss: 0.2605 - accuracy: 0.8861 - val_loss: 0.2641 - val_accuracy: 0.8860\n",
            "Epoch 4/20\n",
            "2661/2661 [==============================] - 308s 116ms/step - loss: 0.2534 - accuracy: 0.8896 - val_loss: 0.2593 - val_accuracy: 0.8887\n",
            "Epoch 5/20\n",
            "2661/2661 [==============================] - 307s 115ms/step - loss: 0.2474 - accuracy: 0.8927 - val_loss: 0.2666 - val_accuracy: 0.8864\n",
            "Epoch 6/20\n",
            "2661/2661 [==============================] - 308s 116ms/step - loss: 0.2415 - accuracy: 0.8951 - val_loss: 0.2580 - val_accuracy: 0.8883\n",
            "Epoch 7/20\n",
            "2661/2661 [==============================] - 308s 116ms/step - loss: 0.2373 - accuracy: 0.8971 - val_loss: 0.2578 - val_accuracy: 0.8893\n",
            "Epoch 8/20\n",
            "2661/2661 [==============================] - 307s 115ms/step - loss: 0.2331 - accuracy: 0.8991 - val_loss: 0.2584 - val_accuracy: 0.8908\n",
            "Epoch 9/20\n",
            "2661/2661 [==============================] - 307s 115ms/step - loss: 0.2283 - accuracy: 0.9013 - val_loss: 0.2593 - val_accuracy: 0.8911\n",
            "Epoch 10/20\n",
            "2661/2661 [==============================] - 307s 116ms/step - loss: 0.2256 - accuracy: 0.9024 - val_loss: 0.2601 - val_accuracy: 0.8905\n"
          ]
        }
      ]
    },
    {
      "cell_type": "code",
      "source": [
        "score,acc = model_v1.evaluate(X_test, Y_test, verbose = 2, batch_size = batch_size)\n",
        "print(\"score: %.2f\" % (score))\n",
        "print(\"acc: %.2f\" % (acc))"
      ],
      "metadata": {
        "colab": {
          "base_uri": "https://localhost:8080/"
        },
        "id": "4tkcvKafR49S",
        "outputId": "19159672-47a9-4c20-990a-9b5a20f57b39"
      },
      "execution_count": 139,
      "outputs": [
        {
          "output_type": "stream",
          "name": "stdout",
          "text": [
            "666/666 - 6s - loss: 0.2601 - accuracy: 0.8905 - 6s/epoch - 8ms/step\n",
            "score: 0.26\n",
            "acc: 0.89\n"
          ]
        }
      ]
    },
    {
      "cell_type": "code",
      "source": [
        "fig_Loss = plt.figure(figsize=(10, 10))\n",
        "plt.plot(history.history[\"loss\"], color = 'blue')\n",
        "plt.plot(history.history[\"val_loss\"], color = 'red')\n",
        "plt.title(\"LSTM Model Loss- K-means\")\n",
        "plt.ylabel(\"Loss\")\n",
        "plt.xlabel(\"Epoch\")\n",
        "plt.legend([\"Train Loss\",\"Validation Loss\"])\n",
        "plt.show()\n",
        "# fig_Loss.savefig(\"Loss.png\")"
      ],
      "metadata": {
        "colab": {
          "base_uri": "https://localhost:8080/",
          "height": 621
        },
        "id": "2ilBtmU07V3B",
        "outputId": "dc38f488-dcce-490a-ef2d-b9a6c6b4746c"
      },
      "execution_count": 140,
      "outputs": [
        {
          "output_type": "display_data",
          "data": {
            "image/png": "[encoded data removed]",
            "text/plain": [
              "<Figure size 720x720 with 1 Axes>"
            ]
          },
          "metadata": {
            "needs_background": "light"
          }
        }
      ]
    },
    {
      "cell_type": "code",
      "source": [
        "fig_Loss = plt.figure(figsize=(10, 10))\n",
        "plt.plot(history.history[\"accuracy\"], color = 'blue')\n",
        "plt.plot(history.history[\"val_accuracy\"], color = 'red')\n",
        "plt.title(\"LSTM Model accuracy - K-means\")\n",
        "plt.ylabel(\"Loss\")\n",
        "plt.xlabel(\"Epoch\")\n",
        "plt.legend([\"Train accuracy\",\"Validation accuracy\"])\n",
        "plt.show()"
      ],
      "metadata": {
        "colab": {
          "base_uri": "https://localhost:8080/",
          "height": 621
        },
        "id": "MnE0htkw6vg8",
        "outputId": "8327a5ca-0721-4794-d797-dc8a3a42ed70"
      },
      "execution_count": 141,
      "outputs": [
        {
          "output_type": "display_data",
          "data": {
            "image/png": "[encoded data removed]",
            "text/plain": [
              "<Figure size 720x720 with 1 Axes>"
            ]
          },
          "metadata": {
            "needs_background": "light"
          }
        }
      ]
    },
    {
      "cell_type": "markdown",
      "source": [
        "### LSTM for mini batch k-means labels"
      ],
      "metadata": {
        "id": "qHyw90kD0fvO"
      }
    },
    {
      "cell_type": "code",
      "source": [
        "Y_mini_batch = pd.get_dummies(generated_data[\"mini_batch_kMean\"]).values\n",
        "\n",
        "# print(X.shape)\n",
        "# print(Y.shape, \"\\n\")\n",
        "'''split the test and train data'''\n",
        "X_train_v2, X_test_v2, Y_train_v2, Y_test_v2 = train_test_split(X, Y_mini_batch, test_size= 42572, random_state=0)"
      ],
      "metadata": {
        "id": "Adf9X0JVz8YD"
      },
      "execution_count": 142,
      "outputs": []
    },
    {
      "cell_type": "code",
      "source": [
        "model_v2 = LSTM_model(X, MAX_NB_WORDS, EMBEDDING_DIM)\n",
        "history_v2 = model_v2.fit(X_train_v2, Y_train_v2, epochs=epochs, batch_size = 64, validation_data=[X_test_v2, Y_test_v2],\n",
        "                    callbacks=[EarlyStopping(monitor='val_loss', patience=3, min_delta=0.0001)])"
      ],
      "metadata": {
        "colab": {
          "base_uri": "https://localhost:8080/"
        },
        "id": "CtXoPe5kz8Vl",
        "outputId": "dc2a7699-97a6-4411-d1c9-9a95abbb0059"
      },
      "execution_count": 143,
      "outputs": [
        {
          "output_type": "stream",
          "name": "stdout",
          "text": [
            "Model: \"sequential_5\"\n",
            "_________________________________________________________________\n",
            " Layer (type)                Output Shape              Param #   \n",
            "=================================================================\n",
            " embedding_5 (Embedding)     (None, 20, 128)           6400000   \n",
            "                                                                 \n",
            " spatial_dropout1d_5 (Spatia  (None, 20, 128)          0         \n",
            " lDropout1D)                                                     \n",
            "                                                                 \n",
            " lstm_5 (LSTM)               (None, 100)               91600     \n",
            "                                                                 \n",
            " dense_5 (Dense)             (None, 2)                 202       \n",
            "                                                                 \n",
            "=================================================================\n",
            "Total params: 6,491,802\n",
            "Trainable params: 6,491,802\n",
            "Non-trainable params: 0\n",
            "_________________________________________________________________\n",
            "None\n",
            "Epoch 1/20\n",
            "2661/2661 [==============================] - 314s 117ms/step - loss: 0.3386 - accuracy: 0.8475 - val_loss: 0.2904 - val_accuracy: 0.8704\n",
            "Epoch 2/20\n",
            "2661/2661 [==============================] - 310s 117ms/step - loss: 0.2938 - accuracy: 0.8696 - val_loss: 0.2806 - val_accuracy: 0.8774\n",
            "Epoch 3/20\n",
            "2661/2661 [==============================] - 310s 117ms/step - loss: 0.2842 - accuracy: 0.8746 - val_loss: 0.2737 - val_accuracy: 0.8787\n",
            "Epoch 4/20\n",
            "2661/2661 [==============================] - 312s 117ms/step - loss: 0.2771 - accuracy: 0.8773 - val_loss: 0.2736 - val_accuracy: 0.8791\n",
            "Epoch 5/20\n",
            "2661/2661 [==============================] - 311s 117ms/step - loss: 0.2701 - accuracy: 0.8810 - val_loss: 0.2704 - val_accuracy: 0.8813\n",
            "Epoch 6/20\n",
            "2661/2661 [==============================] - 310s 117ms/step - loss: 0.2648 - accuracy: 0.8833 - val_loss: 0.2687 - val_accuracy: 0.8824\n",
            "Epoch 7/20\n",
            "2661/2661 [==============================] - 310s 116ms/step - loss: 0.2599 - accuracy: 0.8856 - val_loss: 0.2708 - val_accuracy: 0.8789\n",
            "Epoch 8/20\n",
            "2661/2661 [==============================] - 311s 117ms/step - loss: 0.2553 - accuracy: 0.8874 - val_loss: 0.2714 - val_accuracy: 0.8811\n",
            "Epoch 9/20\n",
            "2661/2661 [==============================] - 311s 117ms/step - loss: 0.2501 - accuracy: 0.8908 - val_loss: 0.2711 - val_accuracy: 0.8820\n"
          ]
        }
      ]
    },
    {
      "cell_type": "code",
      "source": [
        "score_v2,acc_v2 = model_v2.evaluate(X_test_v2, Y_test_v2, verbose = 2, batch_size = batch_size)\n",
        "print(\"score: %.2f\" % (score_v2))\n",
        "print(\"acc: %.2f\" % (acc_v2))"
      ],
      "metadata": {
        "colab": {
          "base_uri": "https://localhost:8080/"
        },
        "id": "4Ki18P8Zz8aw",
        "outputId": "ef8cf64a-58d9-44e5-fec0-2ba0b9246eff"
      },
      "execution_count": 144,
      "outputs": [
        {
          "output_type": "stream",
          "name": "stdout",
          "text": [
            "666/666 - 6s - loss: 0.2711 - accuracy: 0.8820 - 6s/epoch - 9ms/step\n",
            "score: 0.27\n",
            "acc: 0.88\n"
          ]
        }
      ]
    },
    {
      "cell_type": "code",
      "source": [
        "fig_Loss = plt.figure(figsize=(10, 10))\n",
        "plt.plot(history_v2.history[\"loss\"], color = 'blue')\n",
        "plt.plot(history_v2.history[\"val_loss\"], color = 'red')\n",
        "plt.title(\"LSTM Model Loss- Mini Batch K-Means\")\n",
        "plt.ylabel(\"Loss\")\n",
        "plt.xlabel(\"Epoch\")\n",
        "plt.legend([\"Train Loss\",\"Validation Loss\"])\n",
        "plt.show()\n",
        "# fig_Loss.savefig(\"Loss.png\")"
      ],
      "metadata": {
        "colab": {
          "base_uri": "https://localhost:8080/",
          "height": 621
        },
        "id": "sgA43tZKMtKA",
        "outputId": "10f5e63c-6fc8-4c76-9b47-e979630f8390"
      },
      "execution_count": 145,
      "outputs": [
        {
          "output_type": "display_data",
          "data": {
            "image/png": "[encoded data removed]",
            "text/plain": [
              "<Figure size 720x720 with 1 Axes>"
            ]
          },
          "metadata": {
            "needs_background": "light"
          }
        }
      ]
    },
    {
      "cell_type": "code",
      "source": [
        "fig_Loss = plt.figure(figsize=(10, 10))\n",
        "plt.plot(history_v2.history[\"accuracy\"], color = 'blue')\n",
        "plt.plot(history_v2.history[\"val_accuracy\"], color = 'red')\n",
        "plt.title(\"LSTM Model accuracy - Mini Batch K-Means\")\n",
        "plt.ylabel(\"Loss\")\n",
        "plt.xlabel(\"Epoch\")\n",
        "plt.legend([\"Train accuracy\",\"Validation accuracy\"])\n",
        "plt.show()"
      ],
      "metadata": {
        "colab": {
          "base_uri": "https://localhost:8080/",
          "height": 621
        },
        "id": "MvhTMqwUMtMB",
        "outputId": "2341e822-653f-4ee2-d86d-f0a357ffa97b"
      },
      "execution_count": 146,
      "outputs": [
        {
          "output_type": "display_data",
          "data": {
            "image/png": "[encoded data removed]",
            "text/plain": [
              "<Figure size 720x720 with 1 Axes>"
            ]
          },
          "metadata": {
            "needs_background": "light"
          }
        }
      ]
    },
    {
      "cell_type": "markdown",
      "source": [
        "## Negative tweets clustering"
      ],
      "metadata": {
        "id": "ykNh-ot72Ipt"
      }
    },
    {
      "cell_type": "markdown",
      "source": [
        "### collect negative tweets"
      ],
      "metadata": {
        "id": "E_f1VOccCSEa"
      }
    },
    {
      "cell_type": "code",
      "source": [
        "negative_embeddings = []\n",
        "for i in range(len(predicted_labels)):\n",
        "  if predicted_labels[i] == 0:\n",
        "    negative_embeddings.append((embed_model.docvecs[i]).tolist())\n"
      ],
      "metadata": {
        "id": "ZIAr93PqAi6j"
      },
      "execution_count": 147,
      "outputs": []
    },
    {
      "cell_type": "markdown",
      "source": [
        "###Dimension reduction"
      ],
      "metadata": {
        "id": "bKVzhs8xCYz3"
      }
    },
    {
      "cell_type": "code",
      "source": [
        "N_COMPONENTS = 9\n",
        "pca_neg = PCA(n_components=N_COMPONENTS)\n",
        "X_neg = pca_neg.fit_transform(negative_embeddings)\n",
        "pca_neg.explained_variance_ratio_"
      ],
      "metadata": {
        "colab": {
          "base_uri": "https://localhost:8080/"
        },
        "id": "DV7P8B97Chj1",
        "outputId": "f9cf3b45-5985-47c3-d598-49713e159564"
      },
      "execution_count": 148,
      "outputs": [
        {
          "output_type": "execute_result",
          "data": {
            "text/plain": [
              "array([0.07909153, 0.07627274, 0.06822508, 0.06684175, 0.0651759 ,\n",
              "       0.06164853, 0.05903839, 0.05535605, 0.05406013])"
            ]
          },
          "metadata": {},
          "execution_count": 148
        }
      ]
    },
    {
      "cell_type": "markdown",
      "source": [
        "### Clustering method: DBSCAN"
      ],
      "metadata": {
        "id": "2mkwLzxiPs3N"
      }
    },
    {
      "cell_type": "code",
      "source": [
        "dbscan = DBSCAN(eps=0.30, min_samples= 13).fit(X_neg)\n",
        "# fit model and predict clusters\n",
        "# pred_dbscan = dbscan.fit_predict(X_neg)"
      ],
      "metadata": {
        "id": "kmz72syJChmG"
      },
      "execution_count": 149,
      "outputs": []
    },
    {
      "cell_type": "code",
      "source": [
        "from numpy import unique\n",
        "clusters = unique(dbscan)\n",
        "# print(clusters)\n",
        "labels = dbscan.labels_\n",
        "no_clusters = len(np.unique(labels) )\n",
        "no_noise = np.sum(np.array(labels) == -1, axis=0)\n",
        "\n",
        "print('Estimated no. of clusters: %d' % no_clusters)\n",
        "print('Estimated no. of noise points: %d' % no_noise)"
      ],
      "metadata": {
        "colab": {
          "base_uri": "https://localhost:8080/"
        },
        "id": "MEX0loWkDjlK",
        "outputId": "8e984791-a318-4cca-8a49-19fe8f0c9264"
      },
      "execution_count": 150,
      "outputs": [
        {
          "output_type": "stream",
          "name": "stdout",
          "text": [
            "Estimated no. of clusters: 24\n",
            "Estimated no. of noise points: 61465\n"
          ]
        }
      ]
    },
    {
      "cell_type": "markdown",
      "source": [
        "### Clustering method: k-means"
      ],
      "metadata": {
        "id": "Fwrxh4qjPytU"
      }
    },
    {
      "cell_type": "code",
      "source": [
        "kmeans_neg = KMeans(n_clusters= 3, random_state = 0)\n",
        "pred_kmeans_neg = kmeans_neg.fit_predict(X_neg)\n",
        "pred_neg_labels2 = pred_kmeans_neg.tolist()"
      ],
      "metadata": {
        "id": "Gjad3-LLPxs6"
      },
      "execution_count": 151,
      "outputs": []
    },
    {
      "cell_type": "code",
      "source": [
        "count0 = count1 = count2 = 0 \n",
        "for num in pred_neg_labels2:\n",
        "  if num == 0:\n",
        "    count0 += 1\n",
        "  if num == 1:\n",
        "    count1 += 1\n",
        "  else:\n",
        "    count2 += 1\n",
        "\n",
        "fig = plt.figure(figsize = (10, 5))\n",
        "plt.bar([0, 1, 2], [count0, count1, count2], color ='blue', width = 0.6)\n",
        "plt.title(\"the distribution of negative tweets\")\n",
        "plt.xlabel(\"Label\")\n",
        "plt.ylabel(\"The number of tweets\")"
      ],
      "metadata": {
        "colab": {
          "base_uri": "https://localhost:8080/",
          "height": 367
        },
        "id": "9Q0SKiuvPxu_",
        "outputId": "f17113e2-adcf-464e-a779-931b0a2c6848"
      },
      "execution_count": 153,
      "outputs": [
        {
          "output_type": "execute_result",
          "data": {
            "text/plain": [
              "Text(0, 0.5, 'The number of tweets')"
            ]
          },
          "metadata": {},
          "execution_count": 153
        },
        {
          "output_type": "display_data",
          "data": {
            "image/png": "[encoded data removed]",
            "text/plain": [
              "<Figure size 720x360 with 1 Axes>"
            ]
          },
          "metadata": {
            "needs_background": "light"
          }
        }
      ]
    },
    {
      "cell_type": "code",
      "source": [
        ""
      ],
      "metadata": {
        "id": "03qPTlxbylL8"
      },
      "execution_count": null,
      "outputs": []
    }
  ]
}